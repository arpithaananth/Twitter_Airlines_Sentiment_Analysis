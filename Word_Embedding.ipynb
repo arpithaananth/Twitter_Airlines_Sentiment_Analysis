{
 "cells": [
  {
   "cell_type": "markdown",
   "metadata": {},
   "source": [
    "# Sentiment Analysis Through Word Embeddings"
   ]
  },
  {
   "cell_type": "code",
   "execution_count": 1,
   "metadata": {},
   "outputs": [],
   "source": [
    "import numpy as np\n",
    "import pandas as pd\n",
    "import gensim\n",
    "import string\n",
    "import re\n",
    "import nltk\n",
    "from wordcloud import WordCloud\n",
    "from string import punctuation\n",
    "from nltk.corpus import stopwords\n",
    "from nltk.probability import FreqDist\n",
    "from nltk.tokenize import word_tokenize\n",
    "from nltk.stem import WordNetLemmatizer\n",
    "from nltk.tokenize import word_tokenize\n",
    "from sklearn.feature_extraction.text import CountVectorizer,TfidfVectorizer"
   ]
  },
  {
   "cell_type": "code",
   "execution_count": 2,
   "metadata": {},
   "outputs": [],
   "source": [
    "data= pd.read_csv('Airline-Sentiment-2-w-AA.csv',encoding='latin-1')\n",
    "\n",
    "from nltk.tokenize import TweetTokenizer\n",
    "from autocorrect import Speller\n",
    "tweet_tok=  TweetTokenizer()\n",
    "spell=Speller(lang='en')\n",
    "stop_nltk= stopwords.words(\"english\")\n",
    "stop_updated= stop_nltk+['user']+['https://t.co.']+[' http://t.co/']+['...'] +['http co']\n",
    "lemm = WordNetLemmatizer()\n",
    "\n",
    "def clean_text(text):\n",
    "    tokens= tweet_tok.tokenize(text.lower())\n",
    "    stemmed=[lemm.lemmatize(term) for term in tokens if term not in  stop_updated and term not in list(punctuation) and len(term)>2]\n",
    "    stemmed_tok = [word for word in stemmed if word.isalpha()]\n",
    "    stemmed_tokens = [spell(word) for word in stemmed_tok]\n",
    "    res=' '.join(stemmed_tokens)\n",
    "    return res"
   ]
  },
  {
   "cell_type": "code",
   "execution_count": 3,
   "metadata": {},
   "outputs": [],
   "source": [
    "data['Clean_Tweets']= data['text'].apply(clean_text)"
   ]
  },
  {
   "cell_type": "code",
   "execution_count": 4,
   "metadata": {},
   "outputs": [],
   "source": [
    "data['Clean_Tweets']=data['Clean_Tweets'].str.replace('#','')\n",
    "data['Clean_Tweets']=data['Clean_Tweets'].str.replace('@','')\n",
    "data['Clean_Tweets']=data['Clean_Tweets'].str.replace('http','')\n",
    "data['Clean_Tweets']=data['Clean_Tweets'].str.replace('co','')\n",
    "data['Clean_Tweets']=data['Clean_Tweets'].str.replace('_ùª _ùª ','')\n",
    "data['Clean_Tweets']=data['Clean_Tweets'].str.replace('â_ù â_ù','')"
   ]
  },
  {
   "cell_type": "code",
   "execution_count": 4,
   "metadata": {},
   "outputs": [],
   "source": [
    "from sklearn.preprocessing import LabelEncoder\n",
    "x1=LabelEncoder()  \n",
    "data['flagged_sentiment']= x1.fit_transform(data['airline_sentiment'])"
   ]
  },
  {
   "cell_type": "markdown",
   "metadata": {},
   "source": [
    "### Using Google's Pretrained Model- word2vec"
   ]
  },
  {
   "cell_type": "code",
   "execution_count": 5,
   "metadata": {},
   "outputs": [],
   "source": [
    "google_model= \"C:\\\\Users\\\\Arpitha Ananth\\\\Documents\\\\Programming in Data Science\\\\Text Processing\\\\word2vec\\\\GoogleNews-vectors-negative300.bin.gz\"\n",
    "embeddings= gensim.models.KeyedVectors.load_word2vec_format(google_model,binary=True)"
   ]
  },
  {
   "cell_type": "code",
   "execution_count": 6,
   "metadata": {},
   "outputs": [
    {
     "data": {
      "text/html": [
       "<div>\n",
       "<style scoped>\n",
       "    .dataframe tbody tr th:only-of-type {\n",
       "        vertical-align: middle;\n",
       "    }\n",
       "\n",
       "    .dataframe tbody tr th {\n",
       "        vertical-align: top;\n",
       "    }\n",
       "\n",
       "    .dataframe thead th {\n",
       "        text-align: right;\n",
       "    }\n",
       "</style>\n",
       "<table border=\"1\" class=\"dataframe\">\n",
       "  <thead>\n",
       "    <tr style=\"text-align: right;\">\n",
       "      <th></th>\n",
       "      <th>0</th>\n",
       "      <th>1</th>\n",
       "      <th>2</th>\n",
       "      <th>3</th>\n",
       "      <th>4</th>\n",
       "      <th>5</th>\n",
       "      <th>6</th>\n",
       "      <th>7</th>\n",
       "      <th>8</th>\n",
       "      <th>9</th>\n",
       "      <th>...</th>\n",
       "      <th>290</th>\n",
       "      <th>291</th>\n",
       "      <th>292</th>\n",
       "      <th>293</th>\n",
       "      <th>294</th>\n",
       "      <th>295</th>\n",
       "      <th>296</th>\n",
       "      <th>297</th>\n",
       "      <th>298</th>\n",
       "      <th>299</th>\n",
       "    </tr>\n",
       "  </thead>\n",
       "  <tbody>\n",
       "    <tr>\n",
       "      <th>0</th>\n",
       "      <td>-0.009094</td>\n",
       "      <td>-0.044189</td>\n",
       "      <td>0.099609</td>\n",
       "      <td>-0.076172</td>\n",
       "      <td>-0.056641</td>\n",
       "      <td>0.061523</td>\n",
       "      <td>0.255859</td>\n",
       "      <td>-0.158203</td>\n",
       "      <td>0.016602</td>\n",
       "      <td>-0.096680</td>\n",
       "      <td>...</td>\n",
       "      <td>-0.193359</td>\n",
       "      <td>0.029907</td>\n",
       "      <td>-0.093262</td>\n",
       "      <td>0.053711</td>\n",
       "      <td>-0.117676</td>\n",
       "      <td>0.069824</td>\n",
       "      <td>0.105957</td>\n",
       "      <td>0.144531</td>\n",
       "      <td>0.180664</td>\n",
       "      <td>-0.086914</td>\n",
       "    </tr>\n",
       "    <tr>\n",
       "      <th>1</th>\n",
       "      <td>0.011475</td>\n",
       "      <td>-0.028662</td>\n",
       "      <td>-0.048035</td>\n",
       "      <td>0.028381</td>\n",
       "      <td>0.016113</td>\n",
       "      <td>0.005029</td>\n",
       "      <td>0.053278</td>\n",
       "      <td>-0.106189</td>\n",
       "      <td>0.100121</td>\n",
       "      <td>0.112695</td>\n",
       "      <td>...</td>\n",
       "      <td>-0.073389</td>\n",
       "      <td>0.079224</td>\n",
       "      <td>-0.044080</td>\n",
       "      <td>0.040007</td>\n",
       "      <td>-0.046777</td>\n",
       "      <td>0.063672</td>\n",
       "      <td>0.102014</td>\n",
       "      <td>-0.096680</td>\n",
       "      <td>0.005133</td>\n",
       "      <td>-0.038660</td>\n",
       "    </tr>\n",
       "    <tr>\n",
       "      <th>2</th>\n",
       "      <td>-0.002590</td>\n",
       "      <td>0.048671</td>\n",
       "      <td>0.035540</td>\n",
       "      <td>0.034947</td>\n",
       "      <td>-0.072335</td>\n",
       "      <td>0.029393</td>\n",
       "      <td>0.051392</td>\n",
       "      <td>-0.091666</td>\n",
       "      <td>0.017008</td>\n",
       "      <td>0.080023</td>\n",
       "      <td>...</td>\n",
       "      <td>-0.060529</td>\n",
       "      <td>0.023089</td>\n",
       "      <td>-0.013249</td>\n",
       "      <td>0.068396</td>\n",
       "      <td>0.065600</td>\n",
       "      <td>0.016942</td>\n",
       "      <td>-0.007010</td>\n",
       "      <td>-0.075910</td>\n",
       "      <td>0.066668</td>\n",
       "      <td>-0.069632</td>\n",
       "    </tr>\n",
       "    <tr>\n",
       "      <th>3</th>\n",
       "      <td>0.002969</td>\n",
       "      <td>0.097236</td>\n",
       "      <td>-0.018582</td>\n",
       "      <td>0.059896</td>\n",
       "      <td>-0.123081</td>\n",
       "      <td>0.062690</td>\n",
       "      <td>0.071913</td>\n",
       "      <td>-0.033997</td>\n",
       "      <td>0.069329</td>\n",
       "      <td>0.090702</td>\n",
       "      <td>...</td>\n",
       "      <td>-0.004829</td>\n",
       "      <td>0.029351</td>\n",
       "      <td>-0.014119</td>\n",
       "      <td>-0.005778</td>\n",
       "      <td>-0.064236</td>\n",
       "      <td>0.040677</td>\n",
       "      <td>0.076152</td>\n",
       "      <td>0.029161</td>\n",
       "      <td>-0.007053</td>\n",
       "      <td>-0.011149</td>\n",
       "    </tr>\n",
       "    <tr>\n",
       "      <th>4</th>\n",
       "      <td>0.110107</td>\n",
       "      <td>0.062714</td>\n",
       "      <td>0.003174</td>\n",
       "      <td>0.131836</td>\n",
       "      <td>-0.030945</td>\n",
       "      <td>-0.058258</td>\n",
       "      <td>0.097595</td>\n",
       "      <td>-0.039795</td>\n",
       "      <td>0.073257</td>\n",
       "      <td>0.130005</td>\n",
       "      <td>...</td>\n",
       "      <td>-0.119110</td>\n",
       "      <td>0.138916</td>\n",
       "      <td>-0.155151</td>\n",
       "      <td>-0.036743</td>\n",
       "      <td>-0.139221</td>\n",
       "      <td>-0.001038</td>\n",
       "      <td>-0.003777</td>\n",
       "      <td>-0.038452</td>\n",
       "      <td>0.109802</td>\n",
       "      <td>-0.061951</td>\n",
       "    </tr>\n",
       "  </tbody>\n",
       "</table>\n",
       "<p>5 rows × 300 columns</p>\n",
       "</div>"
      ],
      "text/plain": [
       "        0         1         2         3         4         5         6    \\\n",
       "0 -0.009094 -0.044189  0.099609 -0.076172 -0.056641  0.061523  0.255859   \n",
       "1  0.011475 -0.028662 -0.048035  0.028381  0.016113  0.005029  0.053278   \n",
       "2 -0.002590  0.048671  0.035540  0.034947 -0.072335  0.029393  0.051392   \n",
       "3  0.002969  0.097236 -0.018582  0.059896 -0.123081  0.062690  0.071913   \n",
       "4  0.110107  0.062714  0.003174  0.131836 -0.030945 -0.058258  0.097595   \n",
       "\n",
       "        7         8         9    ...       290       291       292       293  \\\n",
       "0 -0.158203  0.016602 -0.096680  ... -0.193359  0.029907 -0.093262  0.053711   \n",
       "1 -0.106189  0.100121  0.112695  ... -0.073389  0.079224 -0.044080  0.040007   \n",
       "2 -0.091666  0.017008  0.080023  ... -0.060529  0.023089 -0.013249  0.068396   \n",
       "3 -0.033997  0.069329  0.090702  ... -0.004829  0.029351 -0.014119 -0.005778   \n",
       "4 -0.039795  0.073257  0.130005  ... -0.119110  0.138916 -0.155151 -0.036743   \n",
       "\n",
       "        294       295       296       297       298       299  \n",
       "0 -0.117676  0.069824  0.105957  0.144531  0.180664 -0.086914  \n",
       "1 -0.046777  0.063672  0.102014 -0.096680  0.005133 -0.038660  \n",
       "2  0.065600  0.016942 -0.007010 -0.075910  0.066668 -0.069632  \n",
       "3 -0.064236  0.040677  0.076152  0.029161 -0.007053 -0.011149  \n",
       "4 -0.139221 -0.001038 -0.003777 -0.038452  0.109802 -0.061951  \n",
       "\n",
       "[5 rows x 300 columns]"
      ]
     },
     "execution_count": 6,
     "metadata": {},
     "output_type": "execute_result"
    }
   ],
   "source": [
    "docs_vectors= pd.DataFrame()\n",
    "for doc in data['Clean_Tweets']:  \n",
    "    temp= pd.DataFrame()        \n",
    "    words= doc.split(' ')       \n",
    "    for word in words:           \n",
    "        try:\n",
    "            words2vec= embeddings[word]               \n",
    "            temp= temp.append(pd.Series(words2vec),ignore_index=True)  \n",
    "            \n",
    "        except:  \n",
    "            pass\n",
    "    doc_vector= temp.mean() \n",
    "    docs_vectors= docs_vectors.append(doc_vector,ignore_index= True)  \n",
    "docs_vectors.head()    "
   ]
  },
  {
   "cell_type": "code",
   "execution_count": 8,
   "metadata": {},
   "outputs": [
    {
     "data": {
      "text/plain": [
       "0      66\n",
       "1      66\n",
       "2      66\n",
       "3      66\n",
       "4      66\n",
       "       ..\n",
       "295    66\n",
       "296    66\n",
       "297    66\n",
       "298    66\n",
       "299    66\n",
       "Length: 300, dtype: int64"
      ]
     },
     "execution_count": 8,
     "metadata": {},
     "output_type": "execute_result"
    }
   ],
   "source": [
    "docs_vectors.isna().sum()"
   ]
  },
  {
   "cell_type": "code",
   "execution_count": 9,
   "metadata": {},
   "outputs": [],
   "source": [
    "docs_vectors= docs_vectors.fillna(method='ffill')"
   ]
  },
  {
   "cell_type": "code",
   "execution_count": 10,
   "metadata": {},
   "outputs": [
    {
     "data": {
      "text/plain": [
       "0      0\n",
       "1      0\n",
       "2      0\n",
       "3      0\n",
       "4      0\n",
       "      ..\n",
       "295    0\n",
       "296    0\n",
       "297    0\n",
       "298    0\n",
       "299    0\n",
       "Length: 300, dtype: int64"
      ]
     },
     "execution_count": 10,
     "metadata": {},
     "output_type": "execute_result"
    }
   ],
   "source": [
    "docs_vectors.isna().sum() "
   ]
  },
  {
   "cell_type": "code",
   "execution_count": 11,
   "metadata": {},
   "outputs": [
    {
     "data": {
      "text/plain": [
       "(14640, 300)"
      ]
     },
     "execution_count": 11,
     "metadata": {},
     "output_type": "execute_result"
    }
   ],
   "source": [
    "docs_vectors.shape"
   ]
  },
  {
   "cell_type": "code",
   "execution_count": 12,
   "metadata": {},
   "outputs": [],
   "source": [
    "X= docs_vectors\n",
    "y= data['flagged_sentiment'].values"
   ]
  },
  {
   "cell_type": "code",
   "execution_count": 13,
   "metadata": {},
   "outputs": [],
   "source": [
    "from sklearn.model_selection import train_test_split\n",
    "X_train,X_test,y_train,y_test= train_test_split(X,y,test_size=0.3,random_state=42)"
   ]
  },
  {
   "cell_type": "code",
   "execution_count": 14,
   "metadata": {},
   "outputs": [],
   "source": [
    "from sklearn.metrics import confusion_matrix\n",
    "from sklearn import metrics\n",
    "from sklearn.neighbors import KNeighborsClassifier\n",
    "from sklearn.linear_model import LogisticRegression\n",
    "from sklearn.naive_bayes import MultinomialNB\n",
    "from sklearn.tree import DecisionTreeClassifier\n",
    "from sklearn.ensemble import RandomForestClassifier,AdaBoostClassifier,GradientBoostingClassifier"
   ]
  },
  {
   "cell_type": "markdown",
   "metadata": {},
   "source": [
    "### Logistic Regression"
   ]
  },
  {
   "cell_type": "code",
   "execution_count": 15,
   "metadata": {},
   "outputs": [
    {
     "name": "stderr",
     "output_type": "stream",
     "text": [
      "C:\\Users\\Arpitha Ananth\\Anaconda3\\lib\\site-packages\\sklearn\\linear_model\\logistic.py:432: FutureWarning: Default solver will be changed to 'lbfgs' in 0.22. Specify a solver to silence this warning.\n",
      "  FutureWarning)\n",
      "C:\\Users\\Arpitha Ananth\\Anaconda3\\lib\\site-packages\\sklearn\\linear_model\\logistic.py:469: FutureWarning: Default multi_class will be changed to 'auto' in 0.22. Specify the multi_class option to silence this warning.\n",
      "  \"this warning.\", FutureWarning)\n"
     ]
    }
   ],
   "source": [
    "LogReg= LogisticRegression()\n",
    "LogReg= LogReg.fit(X_train,y_train)\n",
    "\n",
    "y_pred= LogReg.predict(X_test)"
   ]
  },
  {
   "cell_type": "code",
   "execution_count": 16,
   "metadata": {
    "scrolled": true
   },
   "outputs": [
    {
     "name": "stdout",
     "output_type": "stream",
     "text": [
      "Accuracy Score:  0.7750455373406193\n",
      "Confusion Matrix: \n",
      "[[2638  131   45]\n",
      " [ 477  336   71]\n",
      " [ 183   81  430]]\n"
     ]
    }
   ],
   "source": [
    "LRA= metrics.accuracy_score(y_pred,y_test)\n",
    "print(\"Accuracy Score: \", LRA)\n",
    "cm= confusion_matrix(y_test,y_pred)\n",
    "print(\"Confusion Matrix: \",cm,sep='\\n')"
   ]
  },
  {
   "cell_type": "code",
   "execution_count": 17,
   "metadata": {},
   "outputs": [],
   "source": [
    "def multiclass_roc_auc_score(y_test, y_pred, average=\"macro\"):\n",
    "    lb = LabelBinarizer()\n",
    "    lb.fit(y_test)\n",
    "    y_test = lb.transform(y_test)\n",
    "    y_pred = lb.transform(y_pred)\n",
    "    return roc_auc_score(y_test, y_pred, average=average)"
   ]
  },
  {
   "cell_type": "code",
   "execution_count": 18,
   "metadata": {},
   "outputs": [
    {
     "data": {
      "text/plain": [
       "0.7378483442804221"
      ]
     },
     "execution_count": 18,
     "metadata": {},
     "output_type": "execute_result"
    }
   ],
   "source": [
    "from sklearn.metrics import roc_auc_score\n",
    "from sklearn.preprocessing import LabelBinarizer\n",
    "LogReg= multiclass_roc_auc_score(y_test,y_pred)\n",
    "LogReg"
   ]
  },
  {
   "cell_type": "markdown",
   "metadata": {},
   "source": [
    "### KNN"
   ]
  },
  {
   "cell_type": "code",
   "execution_count": 19,
   "metadata": {},
   "outputs": [],
   "source": [
    "knn= KNeighborsClassifier(n_neighbors=5)\n",
    "knn.fit(X_train,y_train)\n",
    "\n",
    "y_pred= knn.predict(X_test)"
   ]
  },
  {
   "cell_type": "code",
   "execution_count": 20,
   "metadata": {
    "scrolled": true
   },
   "outputs": [
    {
     "name": "stdout",
     "output_type": "stream",
     "text": [
      "Accuracy Score:  0.7363387978142076\n",
      "Confusion Matrix: \n",
      "[[2669   91   54]\n",
      " [ 617  217   50]\n",
      " [ 295   51  348]]\n"
     ]
    }
   ],
   "source": [
    "KNNA= metrics.accuracy_score(y_pred,y_test)\n",
    "print(\"Accuracy Score: \",KNNA)\n",
    "cm= confusion_matrix(y_test,y_pred)\n",
    "print(\"Confusion Matrix: \",cm,sep='\\n')"
   ]
  },
  {
   "cell_type": "code",
   "execution_count": 21,
   "metadata": {},
   "outputs": [],
   "source": [
    "def multiclass_roc_auc_score(y_test, y_pred, average=\"macro\"):\n",
    "    lb = LabelBinarizer()\n",
    "    lb.fit(y_test)\n",
    "    y_test = lb.transform(y_test)\n",
    "    y_pred = lb.transform(y_pred)\n",
    "    return roc_auc_score(y_test, y_pred, average=average)"
   ]
  },
  {
   "cell_type": "code",
   "execution_count": 22,
   "metadata": {},
   "outputs": [
    {
     "data": {
      "text/plain": [
       "0.6748064963464971"
      ]
     },
     "execution_count": 22,
     "metadata": {},
     "output_type": "execute_result"
    }
   ],
   "source": [
    "from sklearn.metrics import roc_auc_score\n",
    "from sklearn.preprocessing import LabelBinarizer\n",
    "KNN= multiclass_roc_auc_score(y_test,y_pred)\n",
    "KNN"
   ]
  },
  {
   "cell_type": "markdown",
   "metadata": {},
   "source": [
    "### Decision Tree"
   ]
  },
  {
   "cell_type": "code",
   "execution_count": 27,
   "metadata": {},
   "outputs": [],
   "source": [
    "dtc= DecisionTreeClassifier(criterion=\"entropy\")\n",
    "dtc.fit(X_train,y_train)\n",
    "y_pred= dtc.predict(X_test)"
   ]
  },
  {
   "cell_type": "code",
   "execution_count": 28,
   "metadata": {
    "scrolled": true
   },
   "outputs": [
    {
     "name": "stdout",
     "output_type": "stream",
     "text": [
      "Accuracy Score:  0.6318306010928961\n",
      "Confusion Matrix: \n",
      "[[2111  436  267]\n",
      " [ 403  337  144]\n",
      " [ 236  131  327]]\n"
     ]
    }
   ],
   "source": [
    "DTA= metrics.accuracy_score(y_pred,y_test)\n",
    "print(\"Accuracy Score: \",DTA)\n",
    "cm= confusion_matrix(y_test,y_pred)\n",
    "print(\"Confusion Matrix: \",cm,sep='\\n')"
   ]
  },
  {
   "cell_type": "code",
   "execution_count": 29,
   "metadata": {},
   "outputs": [],
   "source": [
    "def multiclass_roc_auc_score(y_test, y_pred, average=\"macro\"):\n",
    "    lb = LabelBinarizer()\n",
    "    lb.fit(y_test)\n",
    "    y_test = lb.transform(y_test)\n",
    "    y_pred = lb.transform(y_pred)\n",
    "    return roc_auc_score(y_test, y_pred, average=average)"
   ]
  },
  {
   "cell_type": "code",
   "execution_count": 30,
   "metadata": {},
   "outputs": [
    {
     "data": {
      "text/plain": [
       "0.6541443794636213"
      ]
     },
     "execution_count": 30,
     "metadata": {},
     "output_type": "execute_result"
    }
   ],
   "source": [
    "from sklearn.metrics import roc_auc_score\n",
    "from sklearn.preprocessing import LabelBinarizer\n",
    "DT= multiclass_roc_auc_score(y_test,y_pred)\n",
    "DT"
   ]
  },
  {
   "cell_type": "markdown",
   "metadata": {},
   "source": [
    "### Random Forest"
   ]
  },
  {
   "cell_type": "code",
   "execution_count": 31,
   "metadata": {},
   "outputs": [],
   "source": [
    "rf= RandomForestClassifier(n_estimators=100,random_state=0)\n",
    "rf.fit(X_train,y_train)\n",
    "y_pred= rf.predict(X_test)"
   ]
  },
  {
   "cell_type": "code",
   "execution_count": 32,
   "metadata": {
    "scrolled": true
   },
   "outputs": [
    {
     "name": "stdout",
     "output_type": "stream",
     "text": [
      "Accuracy Score:  0.7509107468123861\n",
      "Confusion Matrix: \n",
      "[[2696   98   20]\n",
      " [ 557  281   46]\n",
      " [ 320   53  321]]\n"
     ]
    }
   ],
   "source": [
    "RFA= metrics.accuracy_score(y_pred,y_test)\n",
    "print(\"Accuracy Score: \",RFA)\n",
    "cm= confusion_matrix(y_test,y_pred)\n",
    "print(\"Confusion Matrix: \",cm,sep='\\n')"
   ]
  },
  {
   "cell_type": "code",
   "execution_count": 33,
   "metadata": {},
   "outputs": [],
   "source": [
    "def multiclass_roc_auc_score(y_test, y_pred, average=\"macro\"):\n",
    "    lb = LabelBinarizer()\n",
    "    lb.fit(y_test)\n",
    "    y_test = lb.transform(y_test)\n",
    "    y_pred = lb.transform(y_pred)\n",
    "    return roc_auc_score(y_test, y_pred, average=average)"
   ]
  },
  {
   "cell_type": "code",
   "execution_count": 34,
   "metadata": {},
   "outputs": [
    {
     "data": {
      "text/plain": [
       "0.686969564452571"
      ]
     },
     "execution_count": 34,
     "metadata": {},
     "output_type": "execute_result"
    }
   ],
   "source": [
    "from sklearn.metrics import roc_auc_score\n",
    "from sklearn.preprocessing import LabelBinarizer\n",
    "RF= multiclass_roc_auc_score(y_test,y_pred)\n",
    "RF"
   ]
  },
  {
   "cell_type": "markdown",
   "metadata": {},
   "source": [
    "### Ada Boost Classifier"
   ]
  },
  {
   "cell_type": "code",
   "execution_count": 35,
   "metadata": {},
   "outputs": [],
   "source": [
    "ada= AdaBoostClassifier(n_estimators=100,random_state=0)\n",
    "ada.fit(X_train,y_train)\n",
    "y_pred= ada.predict(X_test)"
   ]
  },
  {
   "cell_type": "code",
   "execution_count": 36,
   "metadata": {
    "scrolled": true
   },
   "outputs": [
    {
     "name": "stdout",
     "output_type": "stream",
     "text": [
      "Accuracy Score:  0.7358834244080146\n",
      "Confusion Matrix: \n",
      "[[2463  233  118]\n",
      " [ 450  345   89]\n",
      " [ 180   90  424]]\n"
     ]
    }
   ],
   "source": [
    "ADAA= metrics.accuracy_score(y_pred,y_test)\n",
    "print(\"Accuracy Score: \",ADAA)\n",
    "cm= confusion_matrix(y_test,y_pred)\n",
    "print(\"Confusion Matrix: \",cm,sep='\\n')"
   ]
  },
  {
   "cell_type": "code",
   "execution_count": 37,
   "metadata": {},
   "outputs": [],
   "source": [
    "def multiclass_roc_auc_score(y_test, y_pred, average=\"macro\"):\n",
    "    lb = LabelBinarizer()\n",
    "    lb.fit(y_test)\n",
    "    y_test = lb.transform(y_test)\n",
    "    y_pred = lb.transform(y_pred)\n",
    "    return roc_auc_score(y_test, y_pred, average=average)"
   ]
  },
  {
   "cell_type": "code",
   "execution_count": 38,
   "metadata": {},
   "outputs": [
    {
     "data": {
      "text/plain": [
       "0.7215330037904361"
      ]
     },
     "execution_count": 38,
     "metadata": {},
     "output_type": "execute_result"
    }
   ],
   "source": [
    "from sklearn.metrics import roc_auc_score\n",
    "from sklearn.preprocessing import LabelBinarizer\n",
    "AD= multiclass_roc_auc_score(y_test,y_pred)\n",
    "AD"
   ]
  },
  {
   "cell_type": "markdown",
   "metadata": {},
   "source": [
    "### Gradient Boost Algorithm"
   ]
  },
  {
   "cell_type": "code",
   "execution_count": 39,
   "metadata": {},
   "outputs": [],
   "source": [
    "gradient= GradientBoostingClassifier(n_estimators=200,random_state=0,max_depth=2)\n",
    "gradient.fit(X_train,y_train)\n",
    "y_pred= gradient.predict(X_test)"
   ]
  },
  {
   "cell_type": "code",
   "execution_count": 40,
   "metadata": {
    "scrolled": true
   },
   "outputs": [
    {
     "name": "stdout",
     "output_type": "stream",
     "text": [
      "Accuracy Score:  0.770264116575592\n",
      "Confusion Matrix: \n",
      "[[2604  149   61]\n",
      " [ 452  370   62]\n",
      " [ 207   78  409]]\n"
     ]
    }
   ],
   "source": [
    "GBA= metrics.accuracy_score(y_pred,y_test)\n",
    "print(\"Accuracy Score: \",GBA)\n",
    "cm= confusion_matrix(y_test,y_pred)\n",
    "print(\"Confusion Matrix: \",cm,sep='\\n')"
   ]
  },
  {
   "cell_type": "code",
   "execution_count": 41,
   "metadata": {},
   "outputs": [],
   "source": [
    "def multiclass_roc_auc_score(y_test, y_pred, average=\"macro\"):\n",
    "    lb = LabelBinarizer()\n",
    "    lb.fit(y_test)\n",
    "    y_test = lb.transform(y_test)\n",
    "    y_pred = lb.transform(y_pred)\n",
    "    return roc_auc_score(y_test, y_pred, average=average)"
   ]
  },
  {
   "cell_type": "code",
   "execution_count": 42,
   "metadata": {},
   "outputs": [
    {
     "data": {
      "text/plain": [
       "0.7362791084994744"
      ]
     },
     "execution_count": 42,
     "metadata": {},
     "output_type": "execute_result"
    }
   ],
   "source": [
    "from sklearn.metrics import roc_auc_score\n",
    "from sklearn.preprocessing import LabelBinarizer\n",
    "GB= multiclass_roc_auc_score(y_test,y_pred)\n",
    "GB"
   ]
  },
  {
   "cell_type": "markdown",
   "metadata": {},
   "source": [
    "### XG Boost Algorithm"
   ]
  },
  {
   "cell_type": "code",
   "execution_count": 43,
   "metadata": {},
   "outputs": [],
   "source": [
    "import xgboost as xgb\n",
    "xgb_model = xgb.XGBClassifier()\n",
    "Xg= GradientBoostingClassifier(n_estimators=200,random_state=0,max_depth=2)\n",
    "Xg.fit(X_train,y_train)\n",
    "y_pred= Xg.predict(X_test)"
   ]
  },
  {
   "cell_type": "code",
   "execution_count": 44,
   "metadata": {
    "scrolled": false
   },
   "outputs": [
    {
     "name": "stdout",
     "output_type": "stream",
     "text": [
      "Accuracy Score:  0.770264116575592\n",
      "Confusion Matrix: \n",
      "[[2604  149   61]\n",
      " [ 452  370   62]\n",
      " [ 207   78  409]]\n"
     ]
    }
   ],
   "source": [
    "XGA= metrics.accuracy_score(y_pred,y_test)\n",
    "print(\"Accuracy Score: \",XGA)\n",
    "cm= confusion_matrix(y_test,y_pred)\n",
    "print(\"Confusion Matrix: \",cm,sep='\\n')"
   ]
  },
  {
   "cell_type": "code",
   "execution_count": 45,
   "metadata": {},
   "outputs": [],
   "source": [
    "def multiclass_roc_auc_score(y_test, y_pred, average=\"macro\"):\n",
    "    lb = LabelBinarizer()\n",
    "    lb.fit(y_test)\n",
    "    y_test = lb.transform(y_test)\n",
    "    y_pred = lb.transform(y_pred)\n",
    "    return roc_auc_score(y_test, y_pred, average=average)"
   ]
  },
  {
   "cell_type": "code",
   "execution_count": 46,
   "metadata": {},
   "outputs": [
    {
     "data": {
      "text/plain": [
       "0.7362791084994744"
      ]
     },
     "execution_count": 46,
     "metadata": {},
     "output_type": "execute_result"
    }
   ],
   "source": [
    "from sklearn.metrics import roc_auc_score\n",
    "from sklearn.preprocessing import LabelBinarizer\n",
    "XG= multiclass_roc_auc_score(y_test,y_pred)\n",
    "XG"
   ]
  },
  {
   "cell_type": "markdown",
   "metadata": {},
   "source": [
    "### Comparison Of ML Models"
   ]
  },
  {
   "cell_type": "code",
   "execution_count": 47,
   "metadata": {},
   "outputs": [
    {
     "data": {
      "text/html": [
       "<div>\n",
       "<style scoped>\n",
       "    .dataframe tbody tr th:only-of-type {\n",
       "        vertical-align: middle;\n",
       "    }\n",
       "\n",
       "    .dataframe tbody tr th {\n",
       "        vertical-align: top;\n",
       "    }\n",
       "\n",
       "    .dataframe thead th {\n",
       "        text-align: right;\n",
       "    }\n",
       "</style>\n",
       "<table border=\"1\" class=\"dataframe\">\n",
       "  <thead>\n",
       "    <tr style=\"text-align: right;\">\n",
       "      <th></th>\n",
       "      <th>Accuracy</th>\n",
       "      <th>AUC-ROC</th>\n",
       "    </tr>\n",
       "  </thead>\n",
       "  <tbody>\n",
       "    <tr>\n",
       "      <th>Logistic Regression</th>\n",
       "      <td>0.775046</td>\n",
       "      <td>0.737848</td>\n",
       "    </tr>\n",
       "    <tr>\n",
       "      <th>KNN</th>\n",
       "      <td>0.736339</td>\n",
       "      <td>0.674806</td>\n",
       "    </tr>\n",
       "    <tr>\n",
       "      <th>Decision Tree</th>\n",
       "      <td>0.631831</td>\n",
       "      <td>0.654144</td>\n",
       "    </tr>\n",
       "    <tr>\n",
       "      <th>Random Forest</th>\n",
       "      <td>0.750911</td>\n",
       "      <td>0.686970</td>\n",
       "    </tr>\n",
       "    <tr>\n",
       "      <th>Ada Boost</th>\n",
       "      <td>0.735883</td>\n",
       "      <td>0.721533</td>\n",
       "    </tr>\n",
       "    <tr>\n",
       "      <th>Gradient Boost</th>\n",
       "      <td>0.770264</td>\n",
       "      <td>0.736279</td>\n",
       "    </tr>\n",
       "    <tr>\n",
       "      <th>XG Boost</th>\n",
       "      <td>0.770264</td>\n",
       "      <td>0.736279</td>\n",
       "    </tr>\n",
       "  </tbody>\n",
       "</table>\n",
       "</div>"
      ],
      "text/plain": [
       "                     Accuracy   AUC-ROC\n",
       "Logistic Regression  0.775046  0.737848\n",
       "KNN                  0.736339  0.674806\n",
       "Decision Tree        0.631831  0.654144\n",
       "Random Forest        0.750911  0.686970\n",
       "Ada Boost            0.735883  0.721533\n",
       "Gradient Boost       0.770264  0.736279\n",
       "XG Boost             0.770264  0.736279"
      ]
     },
     "execution_count": 47,
     "metadata": {},
     "output_type": "execute_result"
    }
   ],
   "source": [
    "Algorithms= ['Logistic Regression','KNN','Decision Tree','Random Forest','Ada Boost','Gradient Boost','XG Boost']\n",
    "Accuracy= [LRA,KNNA,DTA,RFA,ADAA,GBA,XGA]\n",
    "AUC_ROC= [LogReg,KNN,DT,RF,AD,GB,XG]\n",
    "comp= pd.DataFrame([Accuracy,AUC_ROC]).T\n",
    "comp.set_index([Algorithms],inplace=True)\n",
    "comp.columns=['Accuracy','AUC-ROC']\n",
    "comp"
   ]
  },
  {
   "cell_type": "code",
   "execution_count": 55,
   "metadata": {},
   "outputs": [
    {
     "data": {
      "text/plain": [
       "<matplotlib.axes._subplots.AxesSubplot at 0x1cd99f9f898>"
      ]
     },
     "execution_count": 55,
     "metadata": {},
     "output_type": "execute_result"
    },
    {
     "data": {
      "image/png": "[encoded data removed]",
      "text/plain": [
       "<Figure size 1080x360 with 1 Axes>"
      ]
     },
     "metadata": {
      "needs_background": "light"
     },
     "output_type": "display_data"
    }
   ],
   "source": [
    "comp.plot(kind='bar',figsize=(15,5),rot=0,title='Model Comparison for Word Embedding',colors=['teal','darkseagreen'])"
   ]
  }
 ],
 "metadata": {
  "kernelspec": {
   "display_name": "Python 3",
   "language": "python",
   "name": "python3"
  },
  "language_info": {
   "codemirror_mode": {
    "name": "ipython",
    "version": 3
   },
   "file_extension": ".py",
   "mimetype": "text/x-python",
   "name": "python",
   "nbconvert_exporter": "python",
   "pygments_lexer": "ipython3",
   "version": "3.7.3"
  }
 },
 "nbformat": 4,
 "nbformat_minor": 2
}
